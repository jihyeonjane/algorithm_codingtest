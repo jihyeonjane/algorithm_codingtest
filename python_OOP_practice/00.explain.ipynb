{
 "cells": [
  {
   "cell_type": "code",
   "execution_count": 1,
   "metadata": {},
   "outputs": [
    {
     "data": {
      "text/plain": [
       "'\\npython_OOP_practice/\\n|\\n|-- person.py\\n|   |-- programmer.py\\n|\\n|-- person_추상화.py\\n|   |-- actor.py   # 추상화 예시\\n|\\n|-- main.py # 위의 파일 실행\\n|-- polymorphism.py # 다형성 예시 파일(main.py와 비슷하나 동작 방식만 좀 다름)\\n|\\n|-- inheritance.py # 다중상속 예시\\n'"
      ]
     },
     "execution_count": 1,
     "metadata": {},
     "output_type": "execute_result"
    }
   ],
   "source": [
    "'''\n",
    "\n",
    "python_OOP_practice/\n",
    "|\n",
    "|-- person.py\n",
    "|   |-- programmer.py\n",
    "|\n",
    "|-- person_추상화.py\n",
    "|   |-- actor.py   # 추상화 예시\n",
    "|\n",
    "|-- main.py # 위의 파일 실행\n",
    "|-- polymorphism.py # 다형성 예시 파일(main.py와 비슷하나 동작 방식만 좀 다름)\n",
    "|-- encapsulation.py # 캡슐화 예시 파일(main.py와 비슷하나 동작 방식만 좀 다름)\n",
    "|\n",
    "|\n",
    "|-- inheritance.py # 다중상속 예시\n",
    "\n",
    "\n",
    "'''"
   ]
  },
  {
   "cell_type": "markdown",
   "metadata": {},
   "source": [
    "# 추상 클래스 사용 이유?(어렵;)\n",
    "- 각 job 관련 py 파일들은 모두 person.py 함수를 상속받게 됨.\n",
    "- 그런데 이때, 각 job에 따라 introduce 함수의 내용이 모두 다름.(고유 내용 모두 다름.)\n",
    "- 때문에 introduce 함수는 각 job.py 파일에 대해 유동적이어야 함. \n",
    "- 이럴 때 추상 클래스 사용\n",
    "- ** 추상 클래스 걸어놓으면 구현체 클래스는 무조건 이 추상 클래스에 대해 반드시 구현해야하는 제약 걸어놓을 수 있음. (구현 안 하면 실행 안되고 에러 뜸.)"
   ]
  },
  {
   "cell_type": "markdown",
   "metadata": {},
   "source": [
    "# 캡슐화\n",
    "- 함수 내에서는 자유롭게 값 설정이 가능하나, \n",
    "- 구현체 클래스에서 값 변경을 자유롭게 하지 못하게 하기 위해 캡슐화(비정상적인 값 출력을 방지하기 위해)"
   ]
  }
 ],
 "metadata": {
  "kernelspec": {
   "display_name": "base",
   "language": "python",
   "name": "python3"
  },
  "language_info": {
   "codemirror_mode": {
    "name": "ipython",
    "version": 3
   },
   "file_extension": ".py",
   "mimetype": "text/x-python",
   "name": "python",
   "nbconvert_exporter": "python",
   "pygments_lexer": "ipython3",
   "version": "3.11.5"
  }
 },
 "nbformat": 4,
 "nbformat_minor": 2
}
